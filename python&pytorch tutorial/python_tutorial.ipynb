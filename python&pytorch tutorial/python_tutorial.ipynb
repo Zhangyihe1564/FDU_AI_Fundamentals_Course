{
 "cells": [
  {
   "cell_type": "markdown",
   "metadata": {},
   "source": [
    "# Python基础"
   ]
  },
  {
   "cell_type": "markdown",
   "metadata": {},
   "source": [
    "## 1. 输出\n",
    "Python通过`print`语句将程序变量输出到控制台。print可以接受多个任意类型的变量，并默认用空格将它们分隔开。输出的字符串默认以换行符（回车）结尾。"
   ]
  },
  {
   "cell_type": "code",
   "execution_count": 1,
   "metadata": {
    "execution": {
     "iopub.execute_input": "2025-02-24T04:07:28.338089Z",
     "iopub.status.busy": "2025-02-24T04:07:28.337655Z",
     "iopub.status.idle": "2025-02-24T04:07:28.342959Z",
     "shell.execute_reply": "2025-02-24T04:07:28.342582Z",
     "shell.execute_reply.started": "2025-02-24T04:07:28.338067Z"
    },
    "tags": []
   },
   "outputs": [
    {
     "name": "stdout",
     "output_type": "stream",
     "text": [
      "Hello world!\n",
      "Welcome to Fudan University!\n"
     ]
    }
   ],
   "source": [
    "print(\"Hello\", \"world!\")\n",
    "print(\"Welcome to Fudan University!\")"
   ]
  },
  {
   "cell_type": "markdown",
   "metadata": {},
   "source": [
    "### 格式化输出\n",
    "与C语言中的`printf`类似，`print`可以以格式化的字符串为输入。基本的格式为：\n",
    "```python\n",
    "print(\"格式化字符串\" % (参数1, 参数2, ..., 参数n))\n",
    "```\n",
    "如："
   ]
  },
  {
   "cell_type": "code",
   "execution_count": 2,
   "metadata": {
    "execution": {
     "iopub.execute_input": "2025-02-24T04:07:28.729241Z",
     "iopub.status.busy": "2025-02-24T04:07:28.728953Z",
     "iopub.status.idle": "2025-02-24T04:07:28.731887Z",
     "shell.execute_reply": "2025-02-24T04:07:28.731474Z",
     "shell.execute_reply.started": "2025-02-24T04:07:28.729224Z"
    },
    "tags": []
   },
   "outputs": [
    {
     "name": "stdout",
     "output_type": "stream",
     "text": [
      "epoch 1: batch     4 loss: 0.021\n"
     ]
    }
   ],
   "source": [
    "i = 3\n",
    "epoch = 0\n",
    "running_loss = 42\n",
    "\n",
    "print('epoch %d: batch %5d loss: %.3f' % (epoch+1, i+1, running_loss / 2000))"
   ]
  },
  {
   "cell_type": "markdown",
   "metadata": {},
   "source": [
    "格式化字符串中，形如`%d`、`%5d`、`%.3f`的串称为**占位符**，它的作用是告诉`print`后面跟的对应参数以什么样的形式输出。常见的占位符有如下几种：\n",
    "|占位符|意义|例子|例子输出|\n",
    "|---|---|---|---|\n",
    "|`%d`|整数|`print(\"I am %d years old.\" % (18))`| `I am 18 years old.`|\n",
    "|`%nd`|固定位数的整数|`print(\"I am %5d years old.\" % (18))`|`I am ###18 years old.`(`#`表示空格)|\n",
    "|`%.nf`|保留`n`位小数|`print(\"Running loss: %.4f\" % (0.34567))`|`Running loss: 0.3457`|\n",
    "|`%s`|字符串|`print(\"My name is %s.\" % (\"Alice\"))`|`My name is Alice.`|\n",
    "\n",
    "- 注意：格式化字符串中占位符的数量要与后接参数的数量`n`保持一致。"
   ]
  },
  {
   "cell_type": "markdown",
   "metadata": {},
   "source": [
    "## 2. 变量、基本数据类型\n",
    "变量(variable)用于存储值。与C语言不同，在Python中，变量赋值不需要指明类型，写法类似于一个方程：\n",
    "\n",
    "`<变量名> = <变量值>`"
   ]
  },
  {
   "cell_type": "code",
   "execution_count": 3,
   "metadata": {
    "execution": {
     "iopub.execute_input": "2025-02-24T04:07:29.351799Z",
     "iopub.status.busy": "2025-02-24T04:07:29.351408Z",
     "iopub.status.idle": "2025-02-24T04:07:29.354282Z",
     "shell.execute_reply": "2025-02-24T04:07:29.353828Z",
     "shell.execute_reply.started": "2025-02-24T04:07:29.351782Z"
    },
    "tags": []
   },
   "outputs": [
    {
     "name": "stdout",
     "output_type": "stream",
     "text": [
      "3 3 Alice\n"
     ]
    }
   ],
   "source": [
    "x = y = 3\n",
    "my_name = \"Alice\"\n",
    "print(x, y, my_name)"
   ]
  },
  {
   "cell_type": "markdown",
   "metadata": {},
   "source": [
    "**注意**：\n",
    "- 变量名可以包括大小写字母、下划线（`_`）以及数字，但数字不能出现在开头。"
   ]
  },
  {
   "cell_type": "markdown",
   "metadata": {},
   "source": [
    "Python中内置了多种数据类型。常用的基本数据类型有：\n",
    "|名称|说明|例子|\n",
    "|---|---|---|\n",
    "|`int`|整数|`1024`|\n",
    "|`float`|浮点数|`3.14`|\n",
    "|`bool`|布尔值|`True`、`False`|\n",
    "|`str`|字符串|`'Hello'`、`\"World!\"`|\n",
    "\n",
    "下面我们分别介绍各个数据类型和它们的用法。"
   ]
  },
  {
   "cell_type": "markdown",
   "metadata": {},
   "source": [
    "### `int`、`float`和`bool`\n",
    "`int`和`float`都表示数字。Python支持这些类型的常用数学运算（加`+`、减`-`、乘`*`、除`/`、整除（也叫地板除）`//`、乘方`**`、取余`%`、大小比较。\n",
    "注意：\n",
    "- 对于除`/`，即使能够整除也会默认返回`float`类型。\n",
    "- 一般只用整数之间的整除。整除会向下取整。\n",
    "- 一般只用整数之间的取余。取余运算返回除法得到的余数。\n",
    "- 整数和浮点数的运算会返回浮点数。\n",
    "- 在Python中数学的大中小括号统一用小括号表示。"
   ]
  },
  {
   "cell_type": "code",
   "execution_count": 4,
   "metadata": {
    "execution": {
     "iopub.execute_input": "2025-02-24T04:07:30.149198Z",
     "iopub.status.busy": "2025-02-24T04:07:30.148776Z",
     "iopub.status.idle": "2025-02-24T04:07:30.152320Z",
     "shell.execute_reply": "2025-02-24T04:07:30.151935Z",
     "shell.execute_reply.started": "2025-02-24T04:07:30.149182Z"
    },
    "tags": []
   },
   "outputs": [
    {
     "name": "stdout",
     "output_type": "stream",
     "text": [
      "四则运算: 7 -1 12 0.75\n",
      "除法运算: 2.0 1.3333333333333333\n",
      "整除运算: 2 1 -2\n",
      "乘方运算: 36\n",
      "取余运算: 0 1\n"
     ]
    }
   ],
   "source": [
    "print(\"四则运算:\", 3 + 4, 3 - 4, 3 * 4, 3 / 4)\n",
    "\n",
    "print(\"除法运算:\", 4 / 2, 4 / 3)\n",
    "\n",
    "print(\"整除运算:\", 4 // 2, 4 // 3, -4 // 3)\n",
    "\n",
    "print(\"乘方运算:\", (4 + 2) ** 2)\n",
    "\n",
    "print(\"取余运算:\", 4 % 2, 4 % 3) # 4 / 2 = 2...0, 4 % 3 = 1...1"
   ]
  },
  {
   "cell_type": "markdown",
   "metadata": {},
   "source": [
    "`bool`可以是认为一种特殊的`int`。它只能取两个值：`True`和`False`（真/假）。因此，`bool`类型常用于逻辑判断。代码中我们一般不会主动声明`bool`型变量，它是在判断时隐式产生的。比较运算符有：\n",
    "|Python写法|数学形式|\n",
    "|---|---|\n",
    "|`<`、`>`|$\\lt$、$\\gt$|\n",
    "|`<=`、`>=`|$\\le$、$\\ge$|\n",
    "|`!=`|$\\ne$|\n",
    "|`==`|$=$|"
   ]
  },
  {
   "cell_type": "code",
   "execution_count": 5,
   "metadata": {
    "execution": {
     "iopub.execute_input": "2025-02-24T04:07:30.495127Z",
     "iopub.status.busy": "2025-02-24T04:07:30.494888Z",
     "iopub.status.idle": "2025-02-24T04:07:30.497933Z",
     "shell.execute_reply": "2025-02-24T04:07:30.497441Z",
     "shell.execute_reply.started": "2025-02-24T04:07:30.495109Z"
    },
    "tags": []
   },
   "outputs": [
    {
     "name": "stdout",
     "output_type": "stream",
     "text": [
      "True False True True\n"
     ]
    }
   ],
   "source": [
    "print(3 <= 4, 3 > 4, 3 == 3, 1 != 2)"
   ]
  },
  {
   "cell_type": "markdown",
   "metadata": {},
   "source": [
    "布尔值之间可以进行逻辑运算。逻辑运算有：与(`and`)、或(`or`)和非(`not`)："
   ]
  },
  {
   "cell_type": "code",
   "execution_count": 6,
   "metadata": {
    "execution": {
     "iopub.execute_input": "2025-02-24T04:07:30.860985Z",
     "iopub.status.busy": "2025-02-24T04:07:30.860741Z",
     "iopub.status.idle": "2025-02-24T04:07:30.863652Z",
     "shell.execute_reply": "2025-02-24T04:07:30.863253Z",
     "shell.execute_reply.started": "2025-02-24T04:07:30.860968Z"
    },
    "tags": []
   },
   "outputs": [
    {
     "name": "stdout",
     "output_type": "stream",
     "text": [
      "True\n",
      "True\n",
      "False\n"
     ]
    }
   ],
   "source": [
    "print(1 < 2 and 2 < 3)\n",
    "\n",
    "print(1 > 2 or 1 <= 3)\n",
    "\n",
    "print(not (5 >= 3))"
   ]
  },
  {
   "cell_type": "markdown",
   "metadata": {},
   "source": [
    "### 字符串`str`\n",
    "字符串类型用于表示字符序列。它既可以用双引号`\"...\"`声明也可以用单引号`'...'`声明，二者是等价的。"
   ]
  },
  {
   "cell_type": "code",
   "execution_count": 7,
   "metadata": {
    "execution": {
     "iopub.execute_input": "2025-02-24T04:07:31.252811Z",
     "iopub.status.busy": "2025-02-24T04:07:31.252568Z",
     "iopub.status.idle": "2025-02-24T04:07:31.255338Z",
     "shell.execute_reply": "2025-02-24T04:07:31.254911Z",
     "shell.execute_reply.started": "2025-02-24T04:07:31.252794Z"
    },
    "tags": []
   },
   "outputs": [
    {
     "name": "stdout",
     "output_type": "stream",
     "text": [
      "Hello! Hello!\n"
     ]
    }
   ],
   "source": [
    "print(\"Hello!\", 'Hello!')"
   ]
  },
  {
   "cell_type": "markdown",
   "metadata": {},
   "source": [
    "`str`支持一些运算，如`+`和`*`："
   ]
  },
  {
   "cell_type": "code",
   "execution_count": 8,
   "metadata": {
    "execution": {
     "iopub.execute_input": "2025-02-24T04:07:31.629095Z",
     "iopub.status.busy": "2025-02-24T04:07:31.628841Z",
     "iopub.status.idle": "2025-02-24T04:07:31.631681Z",
     "shell.execute_reply": "2025-02-24T04:07:31.631238Z",
     "shell.execute_reply.started": "2025-02-24T04:07:31.629078Z"
    },
    "tags": []
   },
   "outputs": [
    {
     "name": "stdout",
     "output_type": "stream",
     "text": [
      "Hello world!\n",
      "Hello!Hello!Hello!Hello!Hello!\n"
     ]
    }
   ],
   "source": [
    "print(\"Hello\" + \" world!\")\n",
    "print(\"Hello!\" * 5)"
   ]
  },
  {
   "cell_type": "markdown",
   "metadata": {},
   "source": [
    "格式字符串（f-string）可以方便地格式化字符串。它的形式是在字符串引号前加一个`f`，并在需要格式化的地方用大括号包裹变量，如："
   ]
  },
  {
   "cell_type": "code",
   "execution_count": 9,
   "metadata": {
    "execution": {
     "iopub.execute_input": "2025-02-24T04:07:31.985420Z",
     "iopub.status.busy": "2025-02-24T04:07:31.985009Z",
     "iopub.status.idle": "2025-02-24T04:07:31.987847Z",
     "shell.execute_reply": "2025-02-24T04:07:31.987465Z",
     "shell.execute_reply.started": "2025-02-24T04:07:31.985403Z"
    },
    "tags": []
   },
   "outputs": [
    {
     "name": "stdout",
     "output_type": "stream",
     "text": [
      "My name is Alice, and I am 18 years old.\n"
     ]
    }
   ],
   "source": [
    "my_age = 18\n",
    "my_name = \"Alice\"\n",
    "print(f\"My name is {my_name}, and I am {my_age} years old.\")"
   ]
  },
  {
   "cell_type": "markdown",
   "metadata": {},
   "source": [
    "#### 转义符\n",
    "转义符`\\`（反斜线）让我们能够在字符串中加入特殊字符。常用的特殊字符有换行`\\n`、制表符`\\t`等。此外，对于一些字符（如单双引号），我们必须在前面加入转义符才能让Python识别。对于反斜线自身，我们也需要在它前面加入一个额外的转义符来表示反斜线。"
   ]
  },
  {
   "cell_type": "code",
   "execution_count": 10,
   "metadata": {
    "execution": {
     "iopub.execute_input": "2025-02-24T04:07:32.329376Z",
     "iopub.status.busy": "2025-02-24T04:07:32.328981Z",
     "iopub.status.idle": "2025-02-24T04:07:32.331967Z",
     "shell.execute_reply": "2025-02-24T04:07:32.331504Z",
     "shell.execute_reply.started": "2025-02-24T04:07:32.329359Z"
    },
    "tags": []
   },
   "outputs": [
    {
     "name": "stdout",
     "output_type": "stream",
     "text": [
      "Hello\tWorld!\n",
      "Hello\n",
      "World!\n",
      "He said: \"...\"\n",
      "D:\\models\\\n"
     ]
    }
   ],
   "source": [
    "print(\"Hello\\tWorld!\")\n",
    "\n",
    "print(\"Hello\\nWorld!\")\n",
    "\n",
    "print(\"He said: \\\"...\\\"\")\n",
    "\n",
    "save_path = \"D:\\\\models\\\\\"\n",
    "\n",
    "print(save_path)"
   ]
  },
  {
   "cell_type": "markdown",
   "metadata": {},
   "source": [
    "可以将上述几个类型相互转换（但转换一定要有意义），如："
   ]
  },
  {
   "cell_type": "code",
   "execution_count": 11,
   "metadata": {
    "execution": {
     "iopub.execute_input": "2025-02-24T04:07:32.708488Z",
     "iopub.status.busy": "2025-02-24T04:07:32.708206Z",
     "iopub.status.idle": "2025-02-24T04:07:32.711020Z",
     "shell.execute_reply": "2025-02-24T04:07:32.710629Z",
     "shell.execute_reply.started": "2025-02-24T04:07:32.708473Z"
    },
    "tags": []
   },
   "outputs": [
    {
     "name": "stdout",
     "output_type": "stream",
     "text": [
      "123\n",
      "3.14\n",
      "345\n"
     ]
    }
   ],
   "source": [
    "print(str(123))\n",
    "\n",
    "print(float(\"3.14\"))\n",
    "\n",
    "print(int(\"     345 \"))"
   ]
  },
  {
   "cell_type": "markdown",
   "metadata": {},
   "source": [
    "## 3. 条件判断\n",
    "条件判断能够根据表达式的真伪执行不同的对应操作。比如我们熟知的一元二次方程$ax^2+bx+c=0$有实数解的条件：$\\Delta=b^2-4ac\\ge0$，它可以用Python实现如下："
   ]
  },
  {
   "cell_type": "code",
   "execution_count": 12,
   "metadata": {
    "execution": {
     "iopub.execute_input": "2025-02-24T04:07:33.045461Z",
     "iopub.status.busy": "2025-02-24T04:07:33.045106Z",
     "iopub.status.idle": "2025-02-24T04:07:33.048257Z",
     "shell.execute_reply": "2025-02-24T04:07:33.047860Z",
     "shell.execute_reply.started": "2025-02-24T04:07:33.045446Z"
    },
    "tags": []
   },
   "outputs": [
    {
     "name": "stdout",
     "output_type": "stream",
     "text": [
      "方程有一个实数解\n"
     ]
    }
   ],
   "source": [
    "a = 1.0\n",
    "b = 2.0\n",
    "c = 1.0\n",
    "\n",
    "delta = b * b - 4 * a * c\n",
    "\n",
    "if delta > 0:\n",
    "    print(\"方程有两个不同的实数解\")\n",
    "elif delta == 0:\n",
    "    print(\"方程有一个实数解\")\n",
    "else:\n",
    "    print(\"方程无实数解\")"
   ]
  },
  {
   "cell_type": "markdown",
   "metadata": {},
   "source": [
    "判断语句的基本格式如下：\n",
    "```python\n",
    "if <条件1>:\n",
    "    <条件1满足时执行的操作>\n",
    "    ...\n",
    "elif <条件2>:\n",
    "    <条件1不满足，但条件2满足时执行的操作>\n",
    "    ...\n",
    "elif <条件3>：\n",
    "    <条件1和2不满足，但条件3满足时执行的操作>\n",
    "    ...\n",
    "else:\n",
    "    <上述条件均不满足时执行的操作>\n",
    "```\n",
    "\n",
    "注意：\n",
    "- `elif`和`else`分支都是可选项。\n",
    "- 与早期的语言不同，Python的代码块通过缩进（即某一行前面的空格）来实现。某个分支内的代码缩进要保持一致。"
   ]
  },
  {
   "cell_type": "markdown",
   "metadata": {},
   "source": [
    "## 4. 容器数据类型\n",
    "容器数据类型用于存储结构化的数据。下面是一些常用的容器数据类型：\n",
    "|名称|说明|例子|\n",
    "|---|---|---|\n",
    "|`list`|列表|`[1, 1, 2, 3, 5]`、`[\"Hello\", 1, True]`|\n",
    "|`tuple`|元组|`(1, 2, 3)`、`(\"Yes\", True)`|\n",
    "|`dict`|字典|`{\"name\": \"Alice\", \"score\": 100}`|\n",
    "\n",
    "下面我们分别介绍这些容器的用法。"
   ]
  },
  {
   "cell_type": "markdown",
   "metadata": {},
   "source": [
    "### 列表(`list`)\n",
    "列表用于存储有序的数据。比如我们想要存储一个斐波那契数列:\n",
    "$$\n",
    "F_1 = 1, F_2 = 1, F_n = F_{n-1} + F_{n-2} (n \\ge 3)\n",
    "$$"
   ]
  },
  {
   "cell_type": "code",
   "execution_count": 13,
   "metadata": {
    "execution": {
     "iopub.execute_input": "2025-02-24T04:07:33.771328Z",
     "iopub.status.busy": "2025-02-24T04:07:33.770928Z",
     "iopub.status.idle": "2025-02-24T04:07:33.773645Z",
     "shell.execute_reply": "2025-02-24T04:07:33.773265Z",
     "shell.execute_reply.started": "2025-02-24T04:07:33.771311Z"
    },
    "tags": []
   },
   "outputs": [
    {
     "name": "stdout",
     "output_type": "stream",
     "text": [
      "[1, 1, 2, 3, 5, 8]\n"
     ]
    }
   ],
   "source": [
    "fib = [1, 1, 2, 3, 5, 8]\n",
    "print(fib)"
   ]
  },
  {
   "cell_type": "markdown",
   "metadata": {},
   "source": [
    "可以通过索引（类似于数列的下标）取出列表中的对应项。注意：与大多数程序语言类似，列表的下标从**0**开始，即`fib[0]`表示`fib`的第1项："
   ]
  },
  {
   "cell_type": "code",
   "execution_count": 14,
   "metadata": {
    "execution": {
     "iopub.execute_input": "2025-02-24T04:07:34.196216Z",
     "iopub.status.busy": "2025-02-24T04:07:34.195857Z",
     "iopub.status.idle": "2025-02-24T04:07:34.198609Z",
     "shell.execute_reply": "2025-02-24T04:07:34.198182Z",
     "shell.execute_reply.started": "2025-02-24T04:07:34.196201Z"
    },
    "tags": []
   },
   "outputs": [
    {
     "name": "stdout",
     "output_type": "stream",
     "text": [
      "1 1 2\n"
     ]
    }
   ],
   "source": [
    "print(fib[0], fib[1], fib[2])"
   ]
  },
  {
   "cell_type": "markdown",
   "metadata": {},
   "source": [
    "Python支持负数下标，其意义为**倒数第几项**。如："
   ]
  },
  {
   "cell_type": "code",
   "execution_count": 15,
   "metadata": {
    "execution": {
     "iopub.execute_input": "2025-02-24T04:07:34.531742Z",
     "iopub.status.busy": "2025-02-24T04:07:34.531498Z",
     "iopub.status.idle": "2025-02-24T04:07:34.534294Z",
     "shell.execute_reply": "2025-02-24T04:07:34.533904Z",
     "shell.execute_reply.started": "2025-02-24T04:07:34.531714Z"
    },
    "tags": []
   },
   "outputs": [
    {
     "name": "stdout",
     "output_type": "stream",
     "text": [
      "8 5\n"
     ]
    }
   ],
   "source": [
    "print(fib[-1], fib[-2])"
   ]
  },
  {
   "cell_type": "markdown",
   "metadata": {},
   "source": [
    "也可以用索引对列表中的对应项赋值，如："
   ]
  },
  {
   "cell_type": "code",
   "execution_count": 16,
   "metadata": {
    "execution": {
     "iopub.execute_input": "2025-02-24T04:07:34.896946Z",
     "iopub.status.busy": "2025-02-24T04:07:34.896574Z",
     "iopub.status.idle": "2025-02-24T04:07:34.899262Z",
     "shell.execute_reply": "2025-02-24T04:07:34.898830Z",
     "shell.execute_reply.started": "2025-02-24T04:07:34.896930Z"
    },
    "tags": []
   },
   "outputs": [
    {
     "name": "stdout",
     "output_type": "stream",
     "text": [
      "[-1, 1, 2, 3, 5, 8]\n"
     ]
    }
   ],
   "source": [
    "fib[0] = -1\n",
    "\n",
    "print(fib)"
   ]
  },
  {
   "cell_type": "markdown",
   "metadata": {},
   "source": [
    "大多数容器都可以用`len()`获取它的长度。比如，上面我们创建的列表长为6（从而，索引为0~5）："
   ]
  },
  {
   "cell_type": "code",
   "execution_count": 17,
   "metadata": {
    "execution": {
     "iopub.execute_input": "2025-02-24T04:07:35.249860Z",
     "iopub.status.busy": "2025-02-24T04:07:35.249551Z",
     "iopub.status.idle": "2025-02-24T04:07:35.252379Z",
     "shell.execute_reply": "2025-02-24T04:07:35.251814Z",
     "shell.execute_reply.started": "2025-02-24T04:07:35.249842Z"
    },
    "tags": []
   },
   "outputs": [
    {
     "name": "stdout",
     "output_type": "stream",
     "text": [
      "6\n"
     ]
    }
   ],
   "source": [
    "print(len(fib))"
   ]
  },
  {
   "cell_type": "markdown",
   "metadata": {},
   "source": [
    "如果不小心让下标超出了容器的长度，Python会在运行时报错："
   ]
  },
  {
   "cell_type": "code",
   "execution_count": 18,
   "metadata": {
    "execution": {
     "iopub.execute_input": "2025-02-24T04:07:35.608164Z",
     "iopub.status.busy": "2025-02-24T04:07:35.607938Z",
     "iopub.status.idle": "2025-02-24T04:07:35.743462Z",
     "shell.execute_reply": "2025-02-24T04:07:35.742945Z",
     "shell.execute_reply.started": "2025-02-24T04:07:35.608148Z"
    },
    "tags": []
   },
   "outputs": [
    {
     "ename": "IndexError",
     "evalue": "list index out of range",
     "output_type": "error",
     "traceback": [
      "\u001b[0;31m---------------------------------------------------------------------------\u001b[0m",
      "\u001b[0;31mIndexError\u001b[0m                                Traceback (most recent call last)",
      "Cell \u001b[0;32mIn[18], line 1\u001b[0m\n\u001b[0;32m----> 1\u001b[0m \u001b[38;5;28mprint\u001b[39m(\u001b[43mfib\u001b[49m\u001b[43m[\u001b[49m\u001b[38;5;241;43m6\u001b[39;49m\u001b[43m]\u001b[49m)\n",
      "\u001b[0;31mIndexError\u001b[0m: list index out of range"
     ]
    }
   ],
   "source": [
    "print(fib[6])"
   ]
  },
  {
   "cell_type": "markdown",
   "metadata": {},
   "source": [
    "每个容器都内置了一些操作，这些操作可以修改容器、获取容器内的值等，比如对于列表，我们有下面的常用操作`append`，它在列表的最后增加一个元素："
   ]
  },
  {
   "cell_type": "code",
   "execution_count": 19,
   "metadata": {
    "execution": {
     "iopub.execute_input": "2025-02-24T04:07:35.953853Z",
     "iopub.status.busy": "2025-02-24T04:07:35.953430Z",
     "iopub.status.idle": "2025-02-24T04:07:35.956250Z",
     "shell.execute_reply": "2025-02-24T04:07:35.955857Z",
     "shell.execute_reply.started": "2025-02-24T04:07:35.953835Z"
    },
    "tags": []
   },
   "outputs": [
    {
     "name": "stdout",
     "output_type": "stream",
     "text": [
      "[-1, 1, 2, 3, 5, 8, 13]\n"
     ]
    }
   ],
   "source": [
    "fib.append(fib[-2] + fib[-1])\n",
    "\n",
    "print(fib)"
   ]
  },
  {
   "cell_type": "markdown",
   "metadata": {},
   "source": [
    "列表还内置了一些方便的操作，这里我们不一一介绍。下面是一些提示：\n",
    "- 可以使用`list()`或`[]`初始化一个空列表，如：`my_list = list()`或`my_list = []`\n",
    "- 与C语言、Java等编程语言不同，Python列表可以存储非同种数据，如`[\"I am \", 18, \"years old.\"]`\n",
    "- 容器可以嵌套使用。比如，我们需要存储一个矩阵\n",
    "$$\n",
    "\\begin{pmatrix}\n",
    "1 & 0 & 0 \\\\\n",
    "0 & 1 & 0 \\\\\n",
    "0 & 0 & 1\n",
    "\\end{pmatrix}\n",
    "$$\n",
    "那么在python中可以写作：\n",
    "```python\n",
    "matrix = [[1, 0, 0],\n",
    "          [0, 1, 0],\n",
    "          [0, 0, 1]]\n",
    "```\n",
    "这时，`matrix`的第1个元素(`matrix[0]`)也是一个列表，值为`[1, 0, 0]`；获取第2行第3个元素可以写作`matrix[1][2]`。"
   ]
  },
  {
   "cell_type": "markdown",
   "metadata": {},
   "source": [
    "### 元组(tuple)\n",
    "元组和列表一样，都用于存储有序的数据。但元组一旦初始化就无法修改,从而防止数据被意外地修改。比如，我们要存储一个一元二次方程组的系数$a,b,c$："
   ]
  },
  {
   "cell_type": "code",
   "execution_count": 20,
   "metadata": {
    "execution": {
     "iopub.execute_input": "2025-02-24T04:07:36.503988Z",
     "iopub.status.busy": "2025-02-24T04:07:36.503739Z",
     "iopub.status.idle": "2025-02-24T04:07:36.506893Z",
     "shell.execute_reply": "2025-02-24T04:07:36.506401Z",
     "shell.execute_reply.started": "2025-02-24T04:07:36.503970Z"
    },
    "tags": []
   },
   "outputs": [
    {
     "name": "stdout",
     "output_type": "stream",
     "text": [
      "(1.0, 2.0, 1.0) 1.0 2.0 1.0\n"
     ]
    }
   ],
   "source": [
    "coefs = (1.0, 2.0, 1.0)\n",
    "\n",
    "print(coefs, coefs[0], coefs[1], coefs[2])"
   ]
  },
  {
   "cell_type": "markdown",
   "metadata": {},
   "source": [
    "下面是一些提示：\n",
    "- 可以使用`tuple()`或`()`初始化一个空列表（尽管没什么意义，因为元组不能修改）；\n",
    "- 如果要创建一个单元素元组，需要写成类似`(1, )`来与带括号的数学表达式`(1)`做区分；\n",
    "- Python中可以使用解构赋值来方便地获取一部分容器（列表、元组）中的各个元素。在作业中有这样一行：\n",
    "```python\n",
    "(data, label) = trainset[10]\n",
    "```\n",
    "这行代码将`trainset[10]`的第0个元素和第1个元素分别赋值给`data`和`label`.它等价于：\n",
    "```python\n",
    "data = trainset[10][0]\n",
    "label = trainset[10][1]\n",
    "```"
   ]
  },
  {
   "cell_type": "markdown",
   "metadata": {},
   "source": [
    "### 字典(dict)\n",
    "字典用于快速地查找数据。我们在查字典时，也是需要先找到词，然后阅读词下面的解释。这个结构可以在Python中表示如下："
   ]
  },
  {
   "cell_type": "code",
   "execution_count": 21,
   "metadata": {
    "execution": {
     "iopub.execute_input": "2025-02-24T04:07:37.030780Z",
     "iopub.status.busy": "2025-02-24T04:07:37.030521Z",
     "iopub.status.idle": "2025-02-24T04:07:37.033472Z",
     "shell.execute_reply": "2025-02-24T04:07:37.033052Z",
     "shell.execute_reply.started": "2025-02-24T04:07:37.030762Z"
    },
    "tags": []
   },
   "outputs": [
    {
     "name": "stdout",
     "output_type": "stream",
     "text": [
      "to leave sb, especially sb you are responsible for, with no intention of returning\n"
     ]
    }
   ],
   "source": [
    "dictionary = {\n",
    "    \"abandon\": \"to leave sb, especially sb you are responsible for, with no intention of returning\",\n",
    "    \"abnormal\": \"different from what is usual or expected, especially in a way that is worrying, harmful or not wanted\"\n",
    "}\n",
    "\n",
    "print(dictionary[\"abandon\"])"
   ]
  },
  {
   "cell_type": "markdown",
   "metadata": {},
   "source": [
    "在Python dict中，索引不一定是数字，而是存储时的键(key)。每一个表项由键(key)和值(value)组成，在上述例子中，第一个项的键是字符串类型`\"abandon\"`，对应的值就是`\"abandon\"`的解释。\n",
    "\n",
    "同样可以使用索引为字典添加一个新表项："
   ]
  },
  {
   "cell_type": "code",
   "execution_count": 22,
   "metadata": {
    "execution": {
     "iopub.execute_input": "2025-02-24T04:07:37.386759Z",
     "iopub.status.busy": "2025-02-24T04:07:37.386398Z",
     "iopub.status.idle": "2025-02-24T04:07:37.389175Z",
     "shell.execute_reply": "2025-02-24T04:07:37.388736Z",
     "shell.execute_reply.started": "2025-02-24T04:07:37.386742Z"
    },
    "tags": []
   },
   "outputs": [
    {
     "name": "stdout",
     "output_type": "stream",
     "text": [
      "a round fruit with shiny red or green skin and firm white flesh\n"
     ]
    }
   ],
   "source": [
    "dictionary[\"apple\"] = \"a round fruit with shiny red or green skin and firm white flesh\"\n",
    "\n",
    "print(dictionary[\"apple\"])"
   ]
  },
  {
   "cell_type": "markdown",
   "metadata": {},
   "source": [
    "## 5. 循环\n",
    "循环用于完成某些重复的操作。假如我们不知道平方和公式，一个朴素的求法就是逐个累加：$S_n=1^2+2^2+\\cdots+n^2.$\n",
    "这个逻辑在Python中可实现如下："
   ]
  },
  {
   "cell_type": "code",
   "execution_count": 23,
   "metadata": {
    "execution": {
     "iopub.execute_input": "2025-02-24T04:07:37.745854Z",
     "iopub.status.busy": "2025-02-24T04:07:37.745487Z",
     "iopub.status.idle": "2025-02-24T04:07:37.748481Z",
     "shell.execute_reply": "2025-02-24T04:07:37.748027Z",
     "shell.execute_reply.started": "2025-02-24T04:07:37.745838Z"
    },
    "tags": []
   },
   "outputs": [
    {
     "name": "stdout",
     "output_type": "stream",
     "text": [
      "385\n"
     ]
    }
   ],
   "source": [
    "n = 10\n",
    "result = 0\n",
    "\n",
    "for i in range(1, n + 1):\n",
    "    result = result + i * i\n",
    "\n",
    "print(result) # 1 + 2 + ... + 10"
   ]
  },
  {
   "cell_type": "markdown",
   "metadata": {},
   "source": [
    "`for`的基本语法为\n",
    "```py\n",
    "for <变量> in <容器>:\n",
    "    <语句>\n",
    "    ...\n",
    "```\n",
    "这里的`range(start, end)`返回$[start, end)$中的整数，所以我们调用`range(1, n + 1)`返回`1, 2, ..., n`. `i`是一个循环中的临时变量，在每次循环时会自动更新到容器中的下一个值，不需要我们手动赋值。\n",
    "\n",
    "对于上述的所有容器，我们都可以用`for`循环来遍历它们："
   ]
  },
  {
   "cell_type": "code",
   "execution_count": 24,
   "metadata": {
    "execution": {
     "iopub.execute_input": "2025-02-24T04:07:38.121183Z",
     "iopub.status.busy": "2025-02-24T04:07:38.120823Z",
     "iopub.status.idle": "2025-02-24T04:07:38.123672Z",
     "shell.execute_reply": "2025-02-24T04:07:38.123233Z",
     "shell.execute_reply.started": "2025-02-24T04:07:38.121168Z"
    },
    "tags": []
   },
   "outputs": [
    {
     "name": "stdout",
     "output_type": "stream",
     "text": [
      "1\n",
      "1\n",
      "2\n",
      "3\n",
      "5\n",
      "8\n"
     ]
    }
   ],
   "source": [
    "fib = [1, 1, 2, 3, 5, 8]\n",
    "\n",
    "for item in fib:\n",
    "    print(item)"
   ]
  },
  {
   "cell_type": "code",
   "execution_count": 25,
   "metadata": {
    "execution": {
     "iopub.execute_input": "2025-02-24T04:07:38.295672Z",
     "iopub.status.busy": "2025-02-24T04:07:38.295394Z",
     "iopub.status.idle": "2025-02-24T04:07:38.298151Z",
     "shell.execute_reply": "2025-02-24T04:07:38.297731Z",
     "shell.execute_reply.started": "2025-02-24T04:07:38.295657Z"
    },
    "tags": []
   },
   "outputs": [
    {
     "name": "stdout",
     "output_type": "stream",
     "text": [
      "2.0\n",
      "3.0\n",
      "4.0\n"
     ]
    }
   ],
   "source": [
    "coefs = (2.0, 3.0, 4.0)\n",
    "\n",
    "for coef in coefs:\n",
    "    print(coef)"
   ]
  },
  {
   "cell_type": "markdown",
   "metadata": {},
   "source": [
    "对于`dict`，遍历的是它的键："
   ]
  },
  {
   "cell_type": "code",
   "execution_count": 26,
   "metadata": {
    "execution": {
     "iopub.execute_input": "2025-02-24T04:07:38.653897Z",
     "iopub.status.busy": "2025-02-24T04:07:38.653602Z",
     "iopub.status.idle": "2025-02-24T04:07:38.656676Z",
     "shell.execute_reply": "2025-02-24T04:07:38.656179Z",
     "shell.execute_reply.started": "2025-02-24T04:07:38.653881Z"
    },
    "tags": []
   },
   "outputs": [
    {
     "name": "stdout",
     "output_type": "stream",
     "text": [
      "abandon: to leave sb, especially sb you are responsible for, with no intention of returning\n",
      "abnormal: different from what is usual or expected, especially in a way that is worrying, harmful or not wanted\n"
     ]
    }
   ],
   "source": [
    "dictionary = {\n",
    "    \"abandon\": \"to leave sb, especially sb you are responsible for, with no intention of returning\",\n",
    "    \"abnormal\": \"different from what is usual or expected, especially in a way that is worrying, harmful or not wanted\"\n",
    "}\n",
    "\n",
    "for word in dictionary:\n",
    "    print(f\"{word}: {dictionary[word]}\")"
   ]
  },
  {
   "cell_type": "markdown",
   "metadata": {},
   "source": [
    "## 6. 函数(function)/方法(method)\n",
    "函数用于将一组需要反复使用的语句打包，以简化代码、使程序更具有逻辑性。我们上面用过的`print`、`len`都是Python内置的一些函数；Python也提供了许多内置库，它们包含了一些没那么常用的函数，如开平方`sqrt`、取自然对数`log`等数学运算。为了调用这些库中的函数，我们需要使用`import`语句："
   ]
  },
  {
   "cell_type": "code",
   "execution_count": 27,
   "metadata": {
    "execution": {
     "iopub.execute_input": "2025-02-24T04:07:39.032690Z",
     "iopub.status.busy": "2025-02-24T04:07:39.032310Z",
     "iopub.status.idle": "2025-02-24T04:07:39.035534Z",
     "shell.execute_reply": "2025-02-24T04:07:39.035053Z",
     "shell.execute_reply.started": "2025-02-24T04:07:39.032674Z"
    },
    "tags": []
   },
   "outputs": [
    {
     "name": "stdout",
     "output_type": "stream",
     "text": [
      "2.0\n",
      "0.0\n",
      "2.0\n"
     ]
    }
   ],
   "source": [
    "import math\n",
    "\n",
    "print(math.sqrt(4.0))\n",
    "\n",
    "print(math.log(1.0))\n",
    "\n",
    "# 下面为等价写法: from <模块> import ...\n",
    "\n",
    "from math import sqrt\n",
    "\n",
    "print(sqrt(4.0))"
   ]
  },
  {
   "cell_type": "markdown",
   "metadata": {},
   "source": [
    "当然，库中的函数不可能满足我们编程时的所有要求，这时我们可以根据自己的需求自定义函数。比如我们现在想计算平面中两个点$A=(x_1, y_1), B=(x_2, y_2)$之间的直线距离：\n",
    "$$|AB|=\\sqrt{(x_1-x_2)^2 + (y_1-y_2)^2}$$\n",
    "\n",
    "这个计算可以打包成如下的函数："
   ]
  },
  {
   "cell_type": "code",
   "execution_count": 28,
   "metadata": {
    "execution": {
     "iopub.execute_input": "2025-02-24T04:07:39.387865Z",
     "iopub.status.busy": "2025-02-24T04:07:39.387449Z",
     "iopub.status.idle": "2025-02-24T04:07:39.391473Z",
     "shell.execute_reply": "2025-02-24T04:07:39.390999Z",
     "shell.execute_reply.started": "2025-02-24T04:07:39.387838Z"
    },
    "tags": []
   },
   "outputs": [
    {
     "name": "stdout",
     "output_type": "stream",
     "text": [
      "1.4142135623730951\n"
     ]
    }
   ],
   "source": [
    "import math\n",
    "\n",
    "def distance(x1, y1, x2, y2):\n",
    "    return math.sqrt((x1 - x2) ** 2 + (y1 - y2) ** 2)\n",
    "\n",
    "A = (0, 0)\n",
    "B = (1, 1)\n",
    "\n",
    "print(distance(A[0], A[1], B[0], B[1]))"
   ]
  },
  {
   "cell_type": "markdown",
   "metadata": {},
   "source": [
    "函数的声明如下：\n",
    "\n",
    "```python\n",
    "def <函数名>(参数1, 参数2, ..., 参数n):\n",
    "    <语句>\n",
    "    ...\n",
    "    return <返回值>\n",
    "```\n",
    "\n",
    "- **函数名**与变量的命名规则相同，一般体现这个函数的功能；\n",
    "- **参数**为函数完成计算所需要的输入变量，比如上面计算距离的函数，它需要两个点的坐标作为输入；\n",
    "- **返回值**为函数计算得到的结果。对于计算距离的函数，它返回一个`float`型变量表示两个点的距离。"
   ]
  },
  {
   "cell_type": "markdown",
   "metadata": {},
   "source": [
    "### 默认参数\n",
    "我们在高中使用的距离一般为欧几里得距离，计算方式为平方-求和-开根号；在一些应用场景中我们可能希望使用其它距离，比如如下定义的曼哈顿距离（也叫街区距离）：\n",
    "$$|AB|=|x_1-x_2|+|y_1-y_2|$$\n",
    "\n",
    "为了把上面这个计算封装成函数，我们自然可以再定义一个函数`manhattan_distance(x1, y1, x2, y2)`，但如果我们为每种距离都定义一个新的函数，有时会导致代码非常繁杂。这时，我们可以使用默认参数："
   ]
  },
  {
   "cell_type": "code",
   "execution_count": 29,
   "metadata": {
    "execution": {
     "iopub.execute_input": "2025-02-24T04:07:39.932891Z",
     "iopub.status.busy": "2025-02-24T04:07:39.932586Z",
     "iopub.status.idle": "2025-02-24T04:07:39.936951Z",
     "shell.execute_reply": "2025-02-24T04:07:39.936407Z",
     "shell.execute_reply.started": "2025-02-24T04:07:39.932875Z"
    },
    "tags": []
   },
   "outputs": [
    {
     "name": "stdout",
     "output_type": "stream",
     "text": [
      "1.4142135623730951\n",
      "2\n"
     ]
    }
   ],
   "source": [
    "import math\n",
    "\n",
    "def distance(x1, y1, x2, y2, measure=\"euclid\"):\n",
    "    if measure == \"euclid\":\n",
    "        return math.sqrt((x1 - x2) ** 2 + (y1 - y2) ** 2)\n",
    "    elif measure == \"manhattan\":\n",
    "        return abs(x1 - x2) + abs(y1 - y2)\n",
    "\n",
    "A = (0, 0)\n",
    "B = (1, 1)\n",
    "\n",
    "print(distance(A[0], A[1], B[0], B[1])) # 默认为欧几里得距离\n",
    "\n",
    "print(distance(A[0], A[1], B[0], B[1], measure=\"manhattan\")) # 配置使用曼哈顿距离"
   ]
  },
  {
   "cell_type": "markdown",
   "metadata": {},
   "source": [
    "默认参数需要**写在参数列表的最后**，与其它参数的不同点就是多了`=<默认值>`这一部分。当调用函数时，若不进行指定，则该参数会被设置为`<默认值>`。在作业中，我们也能看到一些默认参数的例子："
   ]
  },
  {
   "cell_type": "code",
   "execution_count": 30,
   "metadata": {
    "execution": {
     "iopub.execute_input": "2025-02-24T04:07:40.304032Z",
     "iopub.status.busy": "2025-02-24T04:07:40.303746Z",
     "iopub.status.idle": "2025-02-24T04:07:41.205369Z",
     "shell.execute_reply": "2025-02-24T04:07:41.204743Z",
     "shell.execute_reply.started": "2025-02-24T04:07:40.304016Z"
    },
    "tags": []
   },
   "outputs": [
    {
     "ename": "NameError",
     "evalue": "name 'trainset' is not defined",
     "output_type": "error",
     "traceback": [
      "\u001b[0;31m---------------------------------------------------------------------------\u001b[0m",
      "\u001b[0;31mNameError\u001b[0m                                 Traceback (most recent call last)",
      "Cell \u001b[0;32mIn[30], line 3\u001b[0m\n\u001b[1;32m      1\u001b[0m \u001b[38;5;28;01mfrom\u001b[39;00m \u001b[38;5;21;01mtorch\u001b[39;00m\u001b[38;5;21;01m.\u001b[39;00m\u001b[38;5;21;01mutils\u001b[39;00m\u001b[38;5;21;01m.\u001b[39;00m\u001b[38;5;21;01mdata\u001b[39;00m \u001b[38;5;28;01mimport\u001b[39;00m DataLoader\n\u001b[0;32m----> 3\u001b[0m trainloader \u001b[38;5;241m=\u001b[39m DataLoader(\u001b[43mtrainset\u001b[49m, batch_size\u001b[38;5;241m=\u001b[39mbatch_size, shuffle\u001b[38;5;241m=\u001b[39m\u001b[38;5;28;01mTrue\u001b[39;00m, num_workers\u001b[38;5;241m=\u001b[39m\u001b[38;5;241m2\u001b[39m)\n",
      "\u001b[0;31mNameError\u001b[0m: name 'trainset' is not defined"
     ]
    }
   ],
   "source": [
    "from torch.utils.data import DataLoader\n",
    "\n",
    "trainloader = DataLoader(trainset, batch_size=batch_size, shuffle=True, num_workers=2)"
   ]
  },
  {
   "cell_type": "markdown",
   "metadata": {},
   "source": [
    "从文档中（或者在IDE中鼠标悬停在定义上）我们可以看到这些默认参数的默认值（一部分）：\n",
    "```python\n",
    "class DataLoader(\n",
    "    dataset: Dataset,\n",
    "    batch_size: int | None = 1,\n",
    "    shuffle: bool | None = None,\n",
    "    num_workers: int = 0,\n",
    "    ...\n",
    ")\n",
    "```\n",
    "- `DataLoader`只有`dataset`是必填参数；\n",
    "- 批量大小`batch_size`若不指明默认为1；\n",
    "- 是否打乱数据`shuffle`默认为`None`（不打乱）；\n",
    "- 加载进程数`num_workers`默认为0（默认只在主进程中加载）。"
   ]
  },
  {
   "cell_type": "markdown",
   "metadata": {},
   "source": [
    "## 7. 类(class)\n",
    "类是面向对象编程的重点。这里我们不过多涉及软件构造方面的讲解，我们从一个例子开始。假如我们希望存储一个人的某些信息(如姓名、身份证号)，我们就可以创建一个`Person`类："
   ]
  },
  {
   "cell_type": "code",
   "execution_count": null,
   "metadata": {
    "execution": {
     "iopub.status.busy": "2025-02-24T04:07:41.205879Z",
     "iopub.status.idle": "2025-02-24T04:07:41.206069Z",
     "shell.execute_reply": "2025-02-24T04:07:41.205983Z",
     "shell.execute_reply.started": "2025-02-24T04:07:41.205974Z"
    },
    "tags": []
   },
   "outputs": [],
   "source": [
    "class Person:\n",
    "    def __init__(self, name, id_number):\n",
    "        self.name = name\n",
    "        self.id_number = id_number\n",
    "\n",
    "alice = Person(\"Alice\", \"001\")\n",
    "\n",
    "print(alice.name)\n",
    "print(alice.id_number)"
   ]
  },
  {
   "cell_type": "markdown",
   "metadata": {},
   "source": [
    "类的定义与实例创建语法如下：\n",
    "```python\n",
    "class <类名>:\n",
    "    def __init__(self, 参数1, 参数2, ..., 参数n):\n",
    "        <语句>\n",
    "        ...\n",
    "\n",
    "<实例名> = <类名>(参数1, 参数2, ..., 参数n)\n",
    "```\n",
    "\n",
    "- 类名的命名要求与函数和变量一致；\n",
    "- `__init__`称为类的**构造函数**，可以理解为一个特殊的函数，它通常对类所拥有的各个属性做初始化。对于`Person`这个类，类的属性有姓名`name`和身份证号`id_number`。\n",
    "- 构造函数的第一个参数总为`self`，可以通过`self`保存类的属性。（`self.name = name`, `self.id_number = id_number`）\n",
    "- 代码中的`alice = Person(\"Alice\", \"001\")`将类进行**实例化**：类规定了人所应具备的属性（姓名、身份证号），相当于一种规范、抽象的概念；实例化创造了一个`Person`**实例**；实例名为`alice`。\n",
    "- 调用构造函数进行实例化时忽视`self`这个参数，只需要传入参数1到参数n。\n",
    "- 类的属性可以通过`<实例名>.<属性名>`获取。（如`alice.name`）"
   ]
  },
  {
   "cell_type": "markdown",
   "metadata": {},
   "source": [
    "假设现在我们想打印一个字符串，模拟人的工作（比如输出`\"<name> is working...\"`，我们可以通过一个函数来实现："
   ]
  },
  {
   "cell_type": "code",
   "execution_count": 31,
   "metadata": {
    "execution": {
     "iopub.execute_input": "2025-02-24T04:07:41.415460Z",
     "iopub.status.busy": "2025-02-24T04:07:41.415145Z",
     "iopub.status.idle": "2025-02-24T04:07:41.418545Z",
     "shell.execute_reply": "2025-02-24T04:07:41.418123Z",
     "shell.execute_reply.started": "2025-02-24T04:07:41.415443Z"
    },
    "tags": []
   },
   "outputs": [
    {
     "name": "stdout",
     "output_type": "stream",
     "text": [
      "Alice is working...\n"
     ]
    }
   ],
   "source": [
    "class Person:\n",
    "    def __init__(self, name, id_number):\n",
    "        self.name = name\n",
    "        self.id_number = id_number\n",
    "\n",
    "def work(person):\n",
    "    print(f\"{person.name} is working...\")\n",
    "\n",
    "alice = Person(\"Alice\", \"001\")\n",
    "work(alice)"
   ]
  },
  {
   "cell_type": "markdown",
   "metadata": {},
   "source": [
    "出于代码的可维护性和安全性等考虑，更常见的做法是将这个函数封装在`Person`类中："
   ]
  },
  {
   "cell_type": "code",
   "execution_count": 32,
   "metadata": {
    "execution": {
     "iopub.execute_input": "2025-02-24T04:07:41.792629Z",
     "iopub.status.busy": "2025-02-24T04:07:41.792246Z",
     "iopub.status.idle": "2025-02-24T04:07:41.795438Z",
     "shell.execute_reply": "2025-02-24T04:07:41.795057Z",
     "shell.execute_reply.started": "2025-02-24T04:07:41.792611Z"
    },
    "tags": []
   },
   "outputs": [
    {
     "name": "stdout",
     "output_type": "stream",
     "text": [
      "Alice is working...\n"
     ]
    }
   ],
   "source": [
    "class Person:\n",
    "    def __init__(self, name, id_number):\n",
    "        self.name = name\n",
    "        self.id_number = id_number\n",
    "    \n",
    "    def work(self):\n",
    "        print(f\"{self.name} is working...\")\n",
    "\n",
    "alice = Person(\"Alice\", \"001\")\n",
    "alice.work()"
   ]
  },
  {
   "cell_type": "markdown",
   "metadata": {},
   "source": [
    "在函数实现中，我们需要传入一个`Person`实例；当我们把函数放到类的内部时，这些属性可以通过`self`参数获得。当调用`alice.work()`这行代码时，可以理解为：函数内部的`self`被替换为了`alice`，从而能够获取`alice`的属性。"
   ]
  },
  {
   "cell_type": "markdown",
   "metadata": {},
   "source": [
    "### 类的继承\n",
    "假如在上述代码的基础上，我们又多了一个函数`eat()`表示人在吃饭："
   ]
  },
  {
   "cell_type": "code",
   "execution_count": 33,
   "metadata": {
    "execution": {
     "iopub.execute_input": "2025-02-24T04:07:42.346662Z",
     "iopub.status.busy": "2025-02-24T04:07:42.346253Z",
     "iopub.status.idle": "2025-02-24T04:07:42.349276Z",
     "shell.execute_reply": "2025-02-24T04:07:42.348844Z",
     "shell.execute_reply.started": "2025-02-24T04:07:42.346645Z"
    },
    "tags": []
   },
   "outputs": [],
   "source": [
    "class Person:\n",
    "    def __init__(self, name, id_number):\n",
    "        self.name = name\n",
    "        self.id_number = id_number\n",
    "    \n",
    "    def work(self):\n",
    "        print(f\"{self.name} is working...\")\n",
    "    \n",
    "    def eat(self):\n",
    "        print(f\"{self.name} is eating...\")"
   ]
  },
  {
   "cell_type": "markdown",
   "metadata": {},
   "source": [
    "现在我们有一个新需求：保存学生的信息。学生不仅要有姓名、身份证号，还要有学号。学生也会工作和吃饭，但学生的工作要更具体（即学习）。我们可以新定义一个类来实现这个需求："
   ]
  },
  {
   "cell_type": "code",
   "execution_count": 34,
   "metadata": {
    "execution": {
     "iopub.execute_input": "2025-02-24T04:07:42.710437Z",
     "iopub.status.busy": "2025-02-24T04:07:42.710139Z",
     "iopub.status.idle": "2025-02-24T04:07:42.713680Z",
     "shell.execute_reply": "2025-02-24T04:07:42.713280Z",
     "shell.execute_reply.started": "2025-02-24T04:07:42.710421Z"
    },
    "tags": []
   },
   "outputs": [
    {
     "name": "stdout",
     "output_type": "stream",
     "text": [
      "Alice is learning...\n",
      "Alice is eating...\n"
     ]
    }
   ],
   "source": [
    "class Student:\n",
    "    def __init__(self, name, id_number, student_id):\n",
    "        self.name = name\n",
    "        self.id_number = id_number\n",
    "        self.student_id = student_id\n",
    "    \n",
    "    def work(self):\n",
    "        print(f\"{self.name} is learning...\")\n",
    "    \n",
    "    def eat(self):\n",
    "        print(f\"{self.name} is eating...\")\n",
    "\n",
    "alice = Student(\"Alice\", \"001\", \"fdu-001\")\n",
    "alice.work()\n",
    "alice.eat()"
   ]
  },
  {
   "cell_type": "markdown",
   "metadata": {},
   "source": [
    "这时我们发现，`eat`这个函数与`Person`中完全一样，我们没有必要重新定义一次这个函数。面向对象的编程语言提供了继承来解决各种代码维护的问题。使用继承，我们可以这样完成上面的需求："
   ]
  },
  {
   "cell_type": "code",
   "execution_count": 35,
   "metadata": {
    "execution": {
     "iopub.execute_input": "2025-02-24T04:07:43.091455Z",
     "iopub.status.busy": "2025-02-24T04:07:43.091101Z",
     "iopub.status.idle": "2025-02-24T04:07:43.094426Z",
     "shell.execute_reply": "2025-02-24T04:07:43.094024Z",
     "shell.execute_reply.started": "2025-02-24T04:07:43.091440Z"
    },
    "tags": []
   },
   "outputs": [
    {
     "name": "stdout",
     "output_type": "stream",
     "text": [
      "Bob is learning...\n",
      "Bob is eating...\n"
     ]
    }
   ],
   "source": [
    "class Student(Person):\n",
    "    def __init__(self, name, id_number, student_id):\n",
    "        self.name = name\n",
    "        self.id_number = id_number\n",
    "        self.student_id = student_id\n",
    "    \n",
    "    def work(self):\n",
    "        print(f\"{self.name} is learning...\")\n",
    "\n",
    "bob = Student(\"Bob\", \"002\", \"fdu-002\")\n",
    "bob.work()\n",
    "bob.eat()"
   ]
  },
  {
   "cell_type": "markdown",
   "metadata": {},
   "source": [
    "- 通过将类的定义改为`class Student(Person)`，**子类**`Student`**继承**了**父类**`Person`。继承允许我们在原有的类基础上，只修改那些我们想改变的功能，而保留原有的功能，这样我们就不需要反复写同样的代码了；\n",
    "- 在上面的例子中，不需要变动的功能是`eat`，在`Student`中我们没有定义`eat`，但也成功调用了这个函数（因为它继承自父类的`eat`）。\n",
    "- 修改想要改变的功能即为**重写**，在上面的例子中我们重写了构造函数以及`work`函数。\n",
    "- 子类也能够增加父类中没有的新函数以适应更具体的需求。"
   ]
  },
  {
   "cell_type": "markdown",
   "metadata": {},
   "source": [
    "最后我们通过一个例子来解释pytorch中的继承：考虑在`Person`中新增加一个函数`daily_life`来表示一个人的日常生活。对于一个`Person`, `daily_life`可能实现如下："
   ]
  },
  {
   "cell_type": "code",
   "execution_count": 36,
   "metadata": {
    "execution": {
     "iopub.execute_input": "2025-02-24T04:07:43.658963Z",
     "iopub.status.busy": "2025-02-24T04:07:43.658656Z",
     "iopub.status.idle": "2025-02-24T04:07:43.662363Z",
     "shell.execute_reply": "2025-02-24T04:07:43.661957Z",
     "shell.execute_reply.started": "2025-02-24T04:07:43.658947Z"
    },
    "tags": []
   },
   "outputs": [
    {
     "name": "stdout",
     "output_type": "stream",
     "text": [
      "Alice is eating...\n",
      "Alice is working...\n",
      "Alice is eating...\n",
      "Alice is working...\n",
      "Alice is eating...\n"
     ]
    }
   ],
   "source": [
    "class Person:\n",
    "    def __init__(self, name, id_number):\n",
    "        self.name = name\n",
    "        self.id_number = id_number\n",
    "    \n",
    "    def work(self):\n",
    "        print(f\"{self.name} is working...\")\n",
    "    \n",
    "    def eat(self):\n",
    "        print(f\"{self.name} is eating...\")\n",
    "    \n",
    "    def daily_life(self):\n",
    "        self.eat()\n",
    "        self.work()\n",
    "        self.eat()\n",
    "        self.work()\n",
    "        self.eat()\n",
    "\n",
    "alice = Person(\"Alice\", \"001\")\n",
    "alice.daily_life()"
   ]
  },
  {
   "cell_type": "markdown",
   "metadata": {},
   "source": [
    "对于学生`Student`类，我们仍然继承`Person`类。因此，对于一个学生，调用他的`daily_life`会是这样的："
   ]
  },
  {
   "cell_type": "code",
   "execution_count": 37,
   "metadata": {
    "execution": {
     "iopub.execute_input": "2025-02-24T04:07:44.096410Z",
     "iopub.status.busy": "2025-02-24T04:07:44.096033Z",
     "iopub.status.idle": "2025-02-24T04:07:44.099480Z",
     "shell.execute_reply": "2025-02-24T04:07:44.099033Z",
     "shell.execute_reply.started": "2025-02-24T04:07:44.096394Z"
    },
    "tags": []
   },
   "outputs": [
    {
     "name": "stdout",
     "output_type": "stream",
     "text": [
      "Bob is eating...\n",
      "Bob is learning...\n",
      "Bob is eating...\n",
      "Bob is learning...\n",
      "Bob is eating...\n"
     ]
    }
   ],
   "source": [
    "class Student(Person):\n",
    "    def __init__(self, name, id_number, student_id):\n",
    "        self.name = name\n",
    "        self.id_number = id_number\n",
    "        self.student_id = student_id\n",
    "    \n",
    "    def work(self):\n",
    "        print(f\"{self.name} is learning...\")\n",
    "\n",
    "bob = Student(\"Bob\", \"002\", \"fdu-002\")\n",
    "bob.daily_life()"
   ]
  },
  {
   "cell_type": "markdown",
   "metadata": {},
   "source": [
    "可以看到，`bob.daily_life`中输出的是`Bob is learning...`，而不是父类中`work()`输出的`Bob is working...`。这说明子类的实例会优先运行自己被重写后的函数（这一特性被称为**多态**）。对于`daily_life`这个函数而言，它的流程是固定的：`eat() -> work() -> eat() -> work() -> eat()`.但由于多态特性，对于不同的子类，`work()`具体执行的代码可能是不同的。"
   ]
  },
  {
   "cell_type": "markdown",
   "metadata": {},
   "source": [
    "在作业中，我们涉及的继承和多态在神经网络定义处：\n",
    "```python\n",
    "class Net(nn.Module):\n",
    "    def __init__(self):\n",
    "        # nn.Module子类的函数必须在构造函数中执行父类的构造函数\n",
    "        super(Net, self).__init__()\n",
    "\n",
    "        # 卷积层 '3'表示输入图片为单通道, '6'表示输出通道数，'5'表示卷积核为5*5\n",
    "        self.conv1 = nn.Conv2d(3, 6, 5) \n",
    "        # 卷积层\n",
    "        self.conv2 = nn.Conv2d(6, 16, 5) \n",
    "        # 仿射层/全连接层，y = Wx + b\n",
    "        self.fc1   = nn.Linear(16*5*5, 120) \n",
    "        self.fc2   = nn.Linear(120, 84)\n",
    "        self.fc3   = nn.Linear(84, 10)\n",
    "\n",
    "    def forward(self, x): \n",
    "        # 卷积 -> 激活 -> 池化 (relu激活函数不改变输入的形状)\n",
    "        # [batch size, 3, 32, 32] -- conv1 --> [batch size, 6, 28, 28] -- maxpool --> [batch size, 6, 14, 14]\n",
    "        x = F.max_pool2d(F.relu(self.conv1(x)), (2, 2))\n",
    "        # [batch size, 6, 14, 14] -- conv2 --> [batch size, 16, 10, 10] --> maxpool --> [batch size, 16, 5, 5]\n",
    "        x = F.max_pool2d(F.relu(self.conv2(x)), 2)\n",
    "        # 把 16 * 5 * 5 的特征图展平，变为 [batch size, 16 * 5 * 5]，以送入全连接层\n",
    "        x = x.view(x.size()[0], -1) \n",
    "        # [batch size, 16 * 5 * 5] -- fc1 --> [batch size, 120]\n",
    "        x = F.relu(self.fc1(x))\n",
    "        # [batch size, 120] -- fc2 --> [batch size, 84]\n",
    "        x = F.relu(self.fc2(x))\n",
    "        # [batch size, 84] -- fc3 --> [batch size, 10]\n",
    "        x = self.fc3(x)        \n",
    "        return x\n",
    "```\n",
    "可以看到，`Net`类继承自`nn.Module`，这是pytorch库中表示神经网络的一个通用父类。`forward`函数就利用了多态特性：在调用神经网络时，有许多定义在`nn.Module`父类中的准备工作，但我们不需要关心这些准备工作；我们需要关注的就是子类中重写的`forward`函数。只要我们重写了`forward`函数，训练神经网络就像上面例子中的`daily_life`一样，在固定的流程中执行，但不同的子类`forward`的具体实现不同，从而实现了自定义神经网络。"
   ]
  },
  {
   "cell_type": "markdown",
   "metadata": {},
   "source": [
    "# 2. linux基础命令\n",
    "在Windows这样的具有图形用户界面的操作系统中，我们可以通过鼠标点击等方式选择各种操作（创建文件夹、复制粘贴）；但在服务器的Linux操作系统上，我们只有一个命令行窗口，没法简单地实现上述操作。在linux中，各种操作都通过输入命令实现。"
   ]
  },
  {
   "cell_type": "markdown",
   "metadata": {},
   "source": [
    "## 文件路径\n",
    "我们首先介绍文件路径。文件路径分为**绝对路径**和**相对路径**，前者会随着操作系统略有不同，例如Windows下的绝对路径：\n",
    "```sh\n",
    "C:\\Program Files # 指向C盘下Program Files这个文件夹\n",
    "C:\\Program Files\\1.txt # 指向C盘下Program Files文件夹中的1.txt这个文件\n",
    "\n",
    "C:/Program Files # 等价\n",
    "C:/Program Files/1.txt # 等价\n",
    "```\n",
    "linux下的绝对路径会以\"/\"开头，如\n",
    "```sh\n",
    "/share/vhome # 指向根目录share文件夹中vhome文件夹\n",
    "/share/vhome/1.txt # 指向vhome文件夹中的1.txt文件\n",
    "```\n",
    "相对路径在各个系统下一般可以通用，比如\n",
    "```sh\n",
    "../log/ # 指向当前文件夹上一层文件夹中的log文件夹\n",
    "./models/ # 指向当前文件夹中models文件夹\n",
    "models/ # 与上一行等价\n",
    "./models/checkpoint.pt # 指向当前文件夹中models文件夹下的checkpoint.pt文件\n",
    "```\n",
    "在相对路径表示法中，`..`表示上一层目录；`.`表示当前目录，也可省略。\n",
    "## `pwd`命令\n",
    "`pwd`是print working directory的缩写，打印当前所在目录。\n",
    "## `cd`命令\n",
    "`cd`是change directory的缩写，它的作用是切换当前目录到指定目录。如：\n",
    "```sh\n",
    "cd ./models/\n",
    "cd /share/vhome/\n",
    "```\n",
    "执行`cd`后，`.`表示的意义也会随之改变。\n",
    "## `ls`命令\n",
    "`ls`是list的缩写，它的作用是列出当前目录下的所有文件。由于服务器自带一个简单的图形界面，实验中应该用不到。\n",
    "## `cp`命令\n",
    "`cp`是copy的缩写，即复制文件到指定位置。如：\n",
    "```sh\n",
    "cp ./models/checkpoint.pt ./\n",
    "```\n",
    "即把当前目录`models`文件夹下的`checkpoint.pt`复制到当前文件夹下。\n",
    "## `mv`命令\n",
    "`mv`即move，与`cp`用法类似。功能类似于剪切。\n",
    "## `rm`命令\n",
    "`rm`即remove，删除文件。例：\n",
    "```sh\n",
    "rm 1.txt # 删除当前文件夹下1.txt这个文件\n",
    "rm -rf models # 删除当前文件夹下models这个文件夹，及其中的所有文件\n",
    "```\n",
    "`-rf`选项用于递归（逐层）地删除文件夹下的所有内容。\n",
    "## `mkdir`命令\n",
    "即make directory，创建文件夹。例：\n",
    "```sh\n",
    "mkdir models # 在当前文件夹下创建models文件夹\n",
    "```"
   ]
  }
 ],
 "metadata": {
  "kernelspec": {
   "display_name": "Python 3 (ipykernel)",
   "language": "python",
   "name": "python3"
  },
  "language_info": {
   "codemirror_mode": {
    "name": "ipython",
    "version": 3
   },
   "file_extension": ".py",
   "mimetype": "text/x-python",
   "name": "python",
   "nbconvert_exporter": "python",
   "pygments_lexer": "ipython3",
   "version": "3.10.14"
  }
 },
 "nbformat": 4,
 "nbformat_minor": 4
}
