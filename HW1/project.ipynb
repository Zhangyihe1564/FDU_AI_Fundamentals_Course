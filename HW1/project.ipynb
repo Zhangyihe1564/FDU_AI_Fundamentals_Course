{
 "cells": [
  {
   "cell_type": "markdown",
   "id": "c9392615",
   "metadata": {},
   "source": [
    "# 实验说明\n",
    "本实验的主要内容为：在CIFAR-10数据集上训练一个神经网络，了解训练和推理（预测）的基本流程、探究神经网络的设计（包括网络结构、超参数）对模型性能的影响。\n",
    "> CIFAR-10数据集，又称加拿大高等研究院数据集（Canadian Institute for Advanced Research）是一个常用于训练机器学习和计算机视觉算法的图像集合。它是最广泛使用的机器学习研究数据集之一。CIFAR-10数据集包含60,000张32×32像素的彩色图像，分为10个不同的类别。这10个类别分别是飞机、汽车、鸟类、猫、鹿、狗、青蛙、马、船和卡车，每个类别有6,000张图片。——维基百科\n",
    "\n",
    "在进行实验前，最好对以下内容有所了解：\n",
    "- 基础的Python语法；\n",
    "- 机器学习领域的基本概念与基础的数学知识（参见[动手学深度学习](https://zh.d2l.ai/index.html)1-3章）；\n",
    "- 神经网络的基本概念（如全连接层、卷积层、池化层，参见[动手学深度学习](https://zh.d2l.ai/index.html)4-6章）。\n",
    "\n",
    "# 实验要求\n",
    "实验基础代码已经在下面给出。你需要保证自己在熟悉了基础代码后，完成Task1~Task4中选择至少3个完成。\n",
    "- 截止日期：$\\text{2025.4.6 23:59}$\n",
    "- 提交内容：源代码、实验报告、模型权重文件\n",
    "- 报告要求：提交pdf版本实验报告，包括摘要、引言、方法、实验以及总结部分，4页左右。如果你在探索中有任何其它发现或想法，也请加入到报告中。\n",
    "# 实验报告说明\n",
    "0. **摘要（Abstract）**：引⾔的⼀个⾼度浓缩版本，通过⼀段话介绍你研究的所有内容。\n",
    "1. **引⾔（Introduction）**：这是摘要的⼀个扩写版本，包含更多⼀些的细节。通过⼏段话（2-3段）总结整个报告的内容，让读者通过阅读引⾔就可以知道你做的具体内容。⼀般包括：要解决的问题、⽬标、相关技术背景、你的实验思路和主要实验结论。\n",
    "2. **方法（Methodology）**：介绍你具体的实验思路，详细定义研究问题，详细描述实验⽅法，要求简单、精炼、准确。有必要的话需要给出具体的算法。\n",
    "3. **实验（Experiments）**：包括实验设置（Experimental Setup）和实验结果（Main Results）两个部分。其中，实验设置介绍模型、数据集、超参数设置等；实验结果以图、表的形式介绍每组实验的结果和发现。\n",
    "4. **总结（Conclusion）**：以简短的⼀段话总结整个报告。\n",
    "# 实验基础代码\n",
    "机器学习可大致分为三个部分：数据、模型以及算法。下面，我们按照这一顺序给出实验的基础代码。\n",
    "\n",
    "# 实验分数说明\n",
    "共四个子任务，每个3分，实验报告8分"
   ]
  },
  {
   "cell_type": "markdown",
   "id": "39b7bac0",
   "metadata": {},
   "source": [
    "# 0. 导入必要的库"
   ]
  },
  {
   "cell_type": "code",
   "id": "d8b516af",
   "metadata": {
    "execution": {
     "iopub.execute_input": "2025-02-24T04:12:07.013208Z",
     "iopub.status.busy": "2025-02-24T04:12:07.012918Z",
     "iopub.status.idle": "2025-02-24T04:12:08.601037Z",
     "shell.execute_reply": "2025-02-24T04:12:08.600576Z",
     "shell.execute_reply.started": "2025-02-24T04:12:07.013189Z"
    },
    "tags": [],
    "ExecuteTime": {
     "end_time": "2025-10-29T14:40:31.533042Z",
     "start_time": "2025-10-29T14:40:29.908931Z"
    }
   },
   "source": [
    "import torch\n",
    "import torchvision\n",
    "import torchvision.transforms as transforms\n",
    "from torchvision.transforms import ToPILImage\n",
    "show = ToPILImage()"
   ],
   "outputs": [],
   "execution_count": 1
  },
  {
   "cell_type": "markdown",
   "id": "9a3ecb8e-9bb9-4dc8-aac3-d4f1fcf2abee",
   "metadata": {},
   "source": [
    "# 1. 准备训练数据与测试数据\n",
    "首先我们介绍数据部分。`torchvision`库已经为我们直接提供了CIFAR-10数据集的下载，我们就不需要手动地去网上下载了。代码中的`transform`将原始的图像转换为模型易于处理的形式。`trainloader`和`testloader`分别用于加载训练集和测试集。"
   ]
  },
  {
   "cell_type": "code",
   "execution_count": 2,
   "id": "51c2e91589fc5a4a",
   "metadata": {
    "ExecuteTime": {
     "end_time": "2024-09-06T13:59:05.661199Z",
     "start_time": "2024-09-06T13:59:04.014879Z"
    },
    "execution": {
     "iopub.execute_input": "2025-02-24T04:12:13.462457Z",
     "iopub.status.busy": "2025-02-24T04:12:13.462070Z",
     "iopub.status.idle": "2025-02-24T04:12:14.927092Z",
     "shell.execute_reply": "2025-02-24T04:12:14.926632Z",
     "shell.execute_reply.started": "2025-02-24T04:12:13.462437Z"
    },
    "tags": []
   },
   "outputs": [
    {
     "name": "stdout",
     "output_type": "stream",
     "text": [
      "Files already downloaded and verified\n",
      "Files already downloaded and verified\n"
     ]
    }
   ],
   "source": [
    "# 设定对图片的归一化处理方式，并且下载数据集\n",
    "transform = transforms.Compose(\n",
    "    [transforms.ToTensor(),\n",
    "     transforms.Normalize((0.5, 0.5, 0.5), (0.5, 0.5, 0.5))\n",
    "     ])\n",
    "\n",
    "batch_size = 4\n",
    "\n",
    "trainset = torchvision.datasets.CIFAR10(root='./dataset', train=True,\n",
    "                                        download=True, transform=transform)\n",
    "trainloader = torch.utils.data.DataLoader(trainset, batch_size=batch_size,\n",
    "                                          shuffle=True, num_workers=2)\n",
    "\n",
    "testset = torchvision.datasets.CIFAR10(root='./dataset', train=False,\n",
    "                                       download=True, transform=transform)\n",
    "testloader = torch.utils.data.DataLoader(testset, batch_size=batch_size,\n",
    "                                         shuffle=False, num_workers=2)\n"
   ]
  },
  {
   "cell_type": "markdown",
   "id": "11113c72",
   "metadata": {},
   "source": [
    "通过运行下面的代码，可得知CIFAR-10数据集的训练集包含50000张图像，每张图像的大小为32*32；数据集中的每个元素是由数据和对应的标签组成的。"
   ]
  },
  {
   "cell_type": "code",
   "execution_count": 3,
   "id": "3e488f71-b166-4d4f-9b77-3a997d7aa4de",
   "metadata": {
    "ExecuteTime": {
     "end_time": "2024-09-06T13:59:07.238329Z",
     "start_time": "2024-09-06T13:59:07.220365Z"
    },
    "execution": {
     "iopub.execute_input": "2025-02-24T04:12:20.118746Z",
     "iopub.status.busy": "2025-02-24T04:12:20.118427Z",
     "iopub.status.idle": "2025-02-24T04:12:20.126952Z",
     "shell.execute_reply": "2025-02-24T04:12:20.126537Z",
     "shell.execute_reply.started": "2025-02-24T04:12:20.118716Z"
    },
    "tags": []
   },
   "outputs": [
    {
     "name": "stdout",
     "output_type": "stream",
     "text": [
      "50000\n",
      "torch.Size([3, 32, 32])\n",
      "6\n",
      "frog\n"
     ]
    }
   ],
   "source": [
    "# 观察一下数据集的内容\n",
    "classes = ('plane', 'car', 'bird', 'cat', 'deer', 'dog', 'frog', 'horse', 'ship', 'truck') # 类别名称\n",
    "print(len(trainset)) # 训练集大小\n",
    "print(trainset[0][0].size()) # 第 1 条数据的图像大小\n",
    "print(trainset[0][1]) # 第 1 条数据的标签\n",
    "print(classes[trainset[0][1]]) # 第 1 条数据的文本标签"
   ]
  },
  {
   "cell_type": "markdown",
   "id": "f99afa09",
   "metadata": {},
   "source": [
    "下面这段代码在训练集中随意抽出一张进行可视化，注意在展示之前我们需要将其做上述`transform`的逆变换："
   ]
  },
  {
   "cell_type": "code",
   "execution_count": 4,
   "id": "15d6eab4-0007-4f25-8cb5-f1b54d4aaf10",
   "metadata": {
    "ExecuteTime": {
     "end_time": "2024-09-06T13:59:09.068933Z",
     "start_time": "2024-09-06T13:59:09.038016Z"
    },
    "execution": {
     "iopub.execute_input": "2025-02-24T04:12:21.375284Z",
     "iopub.status.busy": "2025-02-24T04:12:21.374981Z",
     "iopub.status.idle": "2025-02-24T04:12:21.398657Z",
     "shell.execute_reply": "2025-02-24T04:12:21.398270Z",
     "shell.execute_reply.started": "2025-02-24T04:12:21.375266Z"
    },
    "tags": []
   },
   "outputs": [
    {
     "name": "stdout",
     "output_type": "stream",
     "text": [
      "torch.Size([3, 32, 32])\n",
      "7\n",
      "horse\n"
     ]
    },
    {
     "data": {
      "image/jpeg": "[encoded data removed]",
      "image/png": "[encoded data removed]",
      "text/plain": [
       "<PIL.Image.Image image mode=RGB size=100x100>"
      ]
     },
     "execution_count": 4,
     "metadata": {},
     "output_type": "execute_result"
    }
   ],
   "source": [
    "# 1 - 4行与上一块代码意义类似\n",
    "(data, label) = trainset[12] # 选群训练集的一个样本展示内容，也可以改成其他数字看看\n",
    "print(data.size()) \n",
    "print(label) # label是整数\n",
    "print(classes[label])\n",
    "show((data + 1) / 2).resize((100, 100)) # 还原被归一化的图片"
   ]
  },
  {
   "cell_type": "markdown",
   "id": "89dd163a-5f13-4d4a-a035-9d09abac40f6",
   "metadata": {},
   "source": [
    "# 2. 定义用于分类的网络结构"
   ]
  },
  {
   "cell_type": "markdown",
   "id": "7be94ffc",
   "metadata": {},
   "source": [
    "这一部分我们定义用于图像分类的网络结构，实现一个早期的卷积神经网络LeNet。它由两个卷积层和三个全连接层组成。pytorch为我们提供了方便的接口定义神经网络，但我们这里不着重介绍具体的语法，只观察数据是怎样在模型中“流动”的：\n",
    "- 在`__init__`方法中，我们将上述的卷积层和全连接层初始化为`conv1、conv2`和`fc1、fc2、fc3`；\n",
    "- 卷积层以`conv1`为例，它的初始化为`Conv2d(3, 6, 5)`，即：3输入通道（RGB图像的三个通道）、6输出通道、5*5大小的卷积核的卷积层。\n",
    "- 全连接层以`fc1`为例，它的初始化为`Linear(16 * 5 * 5, 120)`，即：从400维映射到120维。\n",
    "- `forward`方法用于规定数据在模型中的计算过程。输入的形状在传播过程中的变化参见`forward`中的注释。最终，我们得到了一个大小为`[batch size, 10]`的张量（矩阵）。"
   ]
  },
  {
   "cell_type": "code",
   "execution_count": 5,
   "id": "d524bb79-17a0-43c1-a4bc-24adffc117cc",
   "metadata": {
    "ExecuteTime": {
     "end_time": "2024-09-06T13:59:11.384118Z",
     "start_time": "2024-09-06T13:59:11.365837Z"
    },
    "execution": {
     "iopub.execute_input": "2025-02-24T04:12:23.413370Z",
     "iopub.status.busy": "2025-02-24T04:12:23.413075Z",
     "iopub.status.idle": "2025-02-24T04:12:23.419879Z",
     "shell.execute_reply": "2025-02-24T04:12:23.419459Z",
     "shell.execute_reply.started": "2025-02-24T04:12:23.413353Z"
    },
    "tags": []
   },
   "outputs": [
    {
     "name": "stdout",
     "output_type": "stream",
     "text": [
      "Net(\n",
      "  (conv1): Conv2d(3, 6, kernel_size=(5, 5), stride=(1, 1))\n",
      "  (conv2): Conv2d(6, 16, kernel_size=(5, 5), stride=(1, 1))\n",
      "  (fc1): Linear(in_features=400, out_features=120, bias=True)\n",
      "  (fc2): Linear(in_features=120, out_features=84, bias=True)\n",
      "  (fc3): Linear(in_features=84, out_features=10, bias=True)\n",
      ")\n"
     ]
    }
   ],
   "source": [
    "import torch.nn as nn\n",
    "import torch.nn.functional as F\n",
    "\n",
    "class Net(nn.Module):\n",
    "    def __init__(self):\n",
    "        # nn.Module子类的函数必须在构造函数中执行父类的构造函数\n",
    "        super(Net, self).__init__()\n",
    "\n",
    "        # 卷积层 '3'表示输入图片为单通道, '6'表示输出通道数，'5'表示卷积核为5*5\n",
    "        self.conv1 = nn.Conv2d(3, 6, 5) \n",
    "        # 卷积层\n",
    "        self.conv2 = nn.Conv2d(6, 16, 5) \n",
    "        # 仿射层/全连接层，y = Wx + b\n",
    "        self.fc1   = nn.Linear(16*5*5, 120) \n",
    "        self.fc2   = nn.Linear(120, 84)\n",
    "        self.fc3   = nn.Linear(84, 10)\n",
    "\n",
    "    def forward(self, x): \n",
    "        # 卷积 -> 激活 -> 池化 (relu激活函数不改变输入的形状)\n",
    "        # [batch size, 3, 32, 32] -- conv1 --> [batch size, 6, 28, 28] -- maxpool --> [batch size, 6, 14, 14]\n",
    "        x = F.max_pool2d(F.relu(self.conv1(x)), (2, 2))\n",
    "        # [batch size, 6, 14, 14] -- conv2 --> [batch size, 16, 10, 10] --> maxpool --> [batch size, 16, 5, 5]\n",
    "        x = F.max_pool2d(F.relu(self.conv2(x)), 2)\n",
    "        # 把 16 * 5 * 5 的特征图展平，变为 [batch size, 16 * 5 * 5]，以送入全连接层\n",
    "        x = x.view(x.size()[0], -1) \n",
    "        # [batch size, 16 * 5 * 5] -- fc1 --> [batch size, 120]\n",
    "        x = F.relu(self.fc1(x))\n",
    "        # [batch size, 120] -- fc2 --> [batch size, 84]\n",
    "        x = F.relu(self.fc2(x))\n",
    "        # [batch size, 84] -- fc3 --> [batch size, 10]\n",
    "        x = self.fc3(x)        \n",
    "        return x\n",
    "\n",
    "net = Net()\n",
    "print(net)"
   ]
  },
  {
   "cell_type": "markdown",
   "id": "6aa72d10-1e99-49a4-a489-2f70fcc7824d",
   "metadata": {},
   "source": [
    "# 3. 模型训练与测试过程\n",
    "准备好数据、定义好模型后，我们开始训练过程。为了把一个随机初始化的模型优化成一个“好”的模型，我们还需要定义：\n",
    "- 损失函数$\\mathcal{L}$：损失函数以一般同时以模型的预测$\\hat{y}$和真实的标签$y$为输入，输出一个标量。这个标量越小，说明模型在数据上拟合得越好。我们的目的就是要最小化这个损失函数$\\mathcal{L}(\\hat{y},y).$分类问题常使用交叉熵函数作为损失函数。\n",
    "- 优化方法：为了最小化损失函数，我们就要使用数学的优化方法找到一组最优的参数（这里的参数即神经网络中卷积层、全连接层等的参数，而非batch size等超参数）。深度学习中一般使用迭代的方式求解，常用的方法有SGD（随机梯度下降）、Adam等。\n",
    "pytorch库内置了各种优化器，我们无需手动实现梯度下降过程。"
   ]
  },
  {
   "cell_type": "code",
   "execution_count": 6,
   "id": "330b6065-b369-4dd1-822b-58c938e86995",
   "metadata": {
    "ExecuteTime": {
     "end_time": "2024-09-06T13:59:14.536539Z",
     "start_time": "2024-09-06T13:59:14.521578Z"
    },
    "execution": {
     "iopub.execute_input": "2025-02-24T04:12:36.693822Z",
     "iopub.status.busy": "2025-02-24T04:12:36.693479Z",
     "iopub.status.idle": "2025-02-24T04:12:36.696878Z",
     "shell.execute_reply": "2025-02-24T04:12:36.696444Z",
     "shell.execute_reply.started": "2025-02-24T04:12:36.693801Z"
    },
    "tags": []
   },
   "outputs": [],
   "source": [
    "from torch import optim\n",
    "criterion = nn.CrossEntropyLoss() # 交叉熵损失函数\n",
    "optimizer = optim.SGD(net.parameters(), lr=0.001, momentum=0.9) # 使用SGD（随机梯度下降）优化\n",
    "num_epochs = 5 # 训练 5 个 epoch"
   ]
  },
  {
   "cell_type": "markdown",
   "id": "101bbccc",
   "metadata": {},
   "source": [
    "下面我们定义用于训练过程的代码。最外层循环控制在整个数据集上训练的次数（即epoch）；内层循环按照以下流程进行：\n",
    "1. 取出数据（一次取出一个batch）；\n",
    "2. 将数据送入网络，计算损失函数；\n",
    "3. 使用损失函数计算梯度，进行反向传播更新参数。"
   ]
  },
  {
   "cell_type": "code",
   "execution_count": 7,
   "id": "d2d61e42-7a1e-4428-b3fa-5a0a78c7e6d5",
   "metadata": {
    "ExecuteTime": {
     "end_time": "2024-09-06T14:17:57.906178Z",
     "start_time": "2024-09-06T14:17:57.894223Z"
    },
    "execution": {
     "iopub.execute_input": "2025-02-24T04:13:08.438403Z",
     "iopub.status.busy": "2025-02-24T04:13:08.438096Z",
     "iopub.status.idle": "2025-02-24T04:13:08.442578Z",
     "shell.execute_reply": "2025-02-24T04:13:08.442133Z",
     "shell.execute_reply.started": "2025-02-24T04:13:08.438385Z"
    },
    "tags": []
   },
   "outputs": [],
   "source": [
    "def train(trainloader, net, num_epochs, criterion, optimizer, save_path):\n",
    "    for epoch in range(num_epochs):     \n",
    "        running_loss = 0.0\n",
    "        for i, data in enumerate(trainloader, 0):\n",
    "    \n",
    "            # 1. 取出数据\n",
    "            inputs, labels = data\n",
    "    \n",
    "            # 梯度清零\n",
    "            optimizer.zero_grad()\n",
    "    \n",
    "            # 2. 前向计算和反向传播\n",
    "            outputs = net(inputs) # 送入网络（正向传播）\n",
    "            loss = criterion(outputs, labels) # 计算损失函数\n",
    "            \n",
    "            # 3. 反向传播，更新参数\n",
    "            loss.backward() # 反向传播\n",
    "            optimizer.step()\n",
    "\n",
    "            # 下面的这段代码对于训练无实际作用，仅用于观察训练状态\n",
    "            running_loss += loss.item()\n",
    "            if i % 2000 == 1999: # 每2000个batch打印一下训练状态\n",
    "                print('epoch %d: batch %5d loss: %.3f' \\\n",
    "                      % (epoch+1, i+1, running_loss / 2000))\n",
    "                running_loss = 0.0\n",
    "                \n",
    "        torch.save(net.state_dict(), f\"{save_path}/epoch_{epoch + 1}_model.pth\")\n",
    "        \n",
    "    print('Finished Training')"
   ]
  },
  {
   "cell_type": "code",
   "execution_count": 19,
   "id": "aaaed0d8-5120-498f-8583-dee700c4c34d",
   "metadata": {
    "ExecuteTime": {
     "end_time": "2024-09-06T14:18:46.885596Z",
     "start_time": "2024-09-06T14:18:08.789187Z"
    }
   },
   "outputs": [
    {
     "name": "stdout",
     "output_type": "stream",
     "text": [
      "epoch 1: batch  1000 loss: 0.449\n",
      "epoch 1: batch  2000 loss: 0.475\n",
      "epoch 1: batch  3000 loss: 0.475\n",
      "epoch 1: batch  4000 loss: 0.485\n",
      "epoch 1: batch  5000 loss: 0.479\n",
      "epoch 1: batch  6000 loss: 0.471\n",
      "epoch 1: batch  7000 loss: 0.490\n",
      "epoch 1: batch  8000 loss: 0.486\n",
      "epoch 1: batch  9000 loss: 0.491\n",
      "epoch 1: batch 10000 loss: 0.488\n",
      "epoch 1: batch 11000 loss: 0.503\n",
      "epoch 1: batch 12000 loss: 0.498\n",
      "Finished Training\n"
     ]
    }
   ],
   "source": [
    "# 使用定义的网络进行训练\n",
    "save_path = '<input your path>'\n",
    "train(trainloader, net, num_epochs, criterion, optimizer, save_path)"
   ]
  },
  {
   "cell_type": "markdown",
   "id": "eb3ff1ea",
   "metadata": {},
   "source": [
    "训练过程结束后，我们得到了一个在训练集上拟合较好的模型。下面我们要测试它在测试集上表现如何。预测的代码与训练中的正向传播类似，但是不需要计算损失函数（损失函数在实验中仅用于更新参数，预测时参数固定，也就不需要它了）。\n",
    "\n",
    "预测的流程如下：\n",
    "1. 取出数据；\n",
    "2. 正向传播，得到模型的输出结果；\n",
    "3. 从输出结果中得到模型预测；\n",
    "4. 和真实标签进行比对，计算性能指标。\n",
    "\n",
    "注意：模型的输出结果在第2部分中已经说明，为一个`[batch size, 10]`大小的张量（矩阵），每一行是一条数据属于10个类别的概率的相对大小（这一输出也被称为`logits`）。为了得到模型的预测，我们需要对这一输出在每行上取最大值，取得最大值的**位置**就是模型的预测。"
   ]
  },
  {
   "cell_type": "code",
   "execution_count": 12,
   "id": "a59e3ccd-8f45-4936-b3d2-1874188652fd",
   "metadata": {
    "ExecuteTime": {
     "end_time": "2024-09-06T14:14:19.737981Z",
     "start_time": "2024-09-06T14:14:19.720024Z"
    }
   },
   "outputs": [],
   "source": [
    "def predict(testloader, net):\n",
    "    correct = 0 # 预测正确的图片数\n",
    "    total = 0 # 总共的图片数\n",
    "    \n",
    "    with torch.no_grad(): # 正向传播时不计算梯度\n",
    "        for data in testloader:\n",
    "            # 1. 取出数据\n",
    "            images, labels = data\n",
    "            # 2. 正向传播，得到输出结果\n",
    "            outputs = net(images)\n",
    "            # 3. 从输出中得到模型预测\n",
    "            _, predicted = torch.max(outputs, 1)\n",
    "            # 4. 计算性能指标\n",
    "            total += labels.size(0)\n",
    "            correct += (predicted == labels).sum()\n",
    "    \n",
    "    print('测试集中的准确率为: %d %%' % (100 * correct / total))"
   ]
  },
  {
   "cell_type": "code",
   "execution_count": 20,
   "id": "e93c93b2-5882-425d-961f-e41bb326f13a",
   "metadata": {
    "ExecuteTime": {
     "end_time": "2024-09-06T14:18:56.458501Z",
     "start_time": "2024-09-06T14:18:50.397457Z"
    }
   },
   "outputs": [
    {
     "name": "stdout",
     "output_type": "stream",
     "text": [
      "测试集中的准确率为: 59 %\n"
     ]
    }
   ],
   "source": [
    "predict(testloader, net)"
   ]
  },
  {
   "cell_type": "markdown",
   "id": "29e1015db34be5f4",
   "metadata": {},
   "source": [
    "\n",
    "# Task1：绘制损失函数曲线\n",
    "损失函数能够量化模型在数据集上的拟合程度，帮助我们了解模型训练的进程。请在`3.模型训练与测试过程`中补充代码，记录训练过程中损失`loss`的变化，使用合适的Python数据类型将其保存，并使用`matplotlib`库将其可视化。可参照以下的代码进行绘图。你可以直接用损失函数可视化的代码覆盖下面的代码块。"
   ]
  },
  {
   "cell_type": "code",
   "execution_count": 9,
   "id": "2d53373a",
   "metadata": {},
   "outputs": [
    {
     "data": {
      "image/png": "[encoded data removed]",
      "text/plain": [
       "<Figure size 640x480 with 1 Axes>"
      ]
     },
     "metadata": {},
     "output_type": "display_data"
    }
   ],
   "source": [
    "import matplotlib.pyplot as plt\n",
    "\n",
    "def draw(values):\n",
    "    plt.plot(values)\n",
    "    plt.show()\n",
    "\n",
    "draw([0.1, 0.2, 0.4, 0.8])"
   ]
  },
  {
   "cell_type": "markdown",
   "id": "8c192c6d",
   "metadata": {},
   "source": [
    "请在报告中附上训练过程中损失函数的变化。训练集上的损失越小，说明模型的效果就越好吗？"
   ]
  },
  {
   "cell_type": "markdown",
   "id": "c6d7db13",
   "metadata": {},
   "source": [
    "# Task2: 加入正则化"
   ]
  },
  {
   "cell_type": "markdown",
   "id": "f861bd2f",
   "metadata": {},
   "source": [
    "- $L_2$正则化：请查阅Pytorch[有关SGD优化器的文档](https://pytorch.org/docs/stable/generated/torch.optim.SGD.html#sgd)或其它网络资料，修改`3. 模型训练与测试过程`中的代码，尝试为模型的损失函数加入一项$L_2$损失，并在报告中说明你所做的修改。\n",
    "- Dropout正则化：请查阅Pytorch[有关Dropout层的文档](https://pytorch.org/docs/stable/generated/torch.nn.Dropout.html#dropout)或其它网络资料，修改`2. 定义用于分类的网络结构`中的代码，在**第一个线性层和第二个线性层之间**加入一个Dropout层，并在报告中说明你所做的修改。\n",
    "- 在报告中简述两种正则化方法的基本原理。"
   ]
  },
  {
   "cell_type": "code",
   "execution_count": null,
   "id": "dd6a1fe6431c29e2",
   "metadata": {},
   "outputs": [],
   "source": [
    "# TODO: 在Dropout_Net中加入dropout层\n",
    "class Dropout_Net(nn.Module):\n",
    "    def __init__(self):\n",
    "        # nn.Module子类的函数必须在构造函数中执行父类的构造函数\n",
    "        super(Dropout_Net, self).__init__()\n",
    "\n",
    "        # 卷积层 '1'表示输入图片为单通道, '6'表示输出通道数，'5'表示卷积核为5*5\n",
    "        self.conv1 = nn.Conv2d(3, 6, 5) \n",
    "        # 卷积层\n",
    "        self.conv2 = nn.Conv2d(6, 16, 5) \n",
    "        # 仿射层/全连接层，y = Wx + b\n",
    "        self.fc1   = nn.Linear(16*5*5, 120) \n",
    "        self.fc2   = nn.Linear(120, 84)\n",
    "        self.fc3   = nn.Linear(84, 10)\n",
    "\n",
    "    def forward(self, x): \n",
    "        # 卷积 -> 激活 -> 池化 \n",
    "        x = F.max_pool2d(F.relu(self.conv1(x)), (2, 2))\n",
    "        x = F.max_pool2d(F.relu(self.conv2(x)), 2) \n",
    "        # reshape，‘-1’表示自适应\n",
    "        x = x.view(x.size()[0], -1) \n",
    "        x = F.relu(self.fc1(x))\n",
    "        x = F.relu(self.fc2(x))\n",
    "        x = self.fc3(x)        \n",
    "        return x\n",
    "    \n",
    "dropout_net = Dropout_Net()"
   ]
  },
  {
   "cell_type": "code",
   "execution_count": null,
   "id": "21eb0f99583c62ff",
   "metadata": {},
   "outputs": [],
   "source": [
    "# TODO: 在这里重新定义optimizer，加入L2正则化项\n",
    "\n",
    "# 使用新定义的网络和优化器进行训练与测试\n",
    "train(trainloader, dropout_net, num_epochs, criterion, optimizer)\n",
    "predict(testloader, dropout_net)"
   ]
  },
  {
   "cell_type": "markdown",
   "id": "189f2ecf81879b50",
   "metadata": {},
   "source": [
    "# Task3: 调整参数\n",
    "在`3. 模型训练与测试过程`部分中，我们定义了一些超参数（如`num_epoch`、优化器的`lr`）。调节这些参数，观察损失函数以及模型在测试集上的性能变化，在报告中简要说明这些指标的变化，尝试分析这些超参数对整个模型的影响。"
   ]
  },
  {
   "cell_type": "code",
   "execution_count": null,
   "id": "e2990678b48c6c6a",
   "metadata": {},
   "outputs": [],
   "source": [
    "# TODO: 在这里修改参数，重新进行训练和测试，并记录数据"
   ]
  },
  {
   "cell_type": "markdown",
   "id": "54321a65",
   "metadata": {},
   "source": [
    "# Task4: 实现自己的网络\n",
    "查阅资料（参考：[动手学深度学习](https://zh.d2l.ai/chapter_convolutional-modern/index.html)以及[`torchvision`的模型源码](https://github.com/pytorch/vision/tree/main/torchvision/models)），修改`2. 定义用于分类的网络结构`中的代码，实现一种现代卷积神经网络。与最基础的LeNet相比，你实现的神经网络在性能、训练时间上有何差异？"
   ]
  },
  {
   "cell_type": "code",
   "execution_count": null,
   "id": "a443da9d9ca2f8d3",
   "metadata": {},
   "outputs": [],
   "source": [
    "# TODO: 参考2.中Net的实现，设计自己的网络，进行训练和测试，并记录数据"
   ]
  }
 ],
 "metadata": {
  "kernelspec": {
   "display_name": "Python 3 (ipykernel)",
   "language": "python",
   "name": "python3"
  },
  "language_info": {
   "codemirror_mode": {
    "name": "ipython",
    "version": 3
   },
   "file_extension": ".py",
   "mimetype": "text/x-python",
   "name": "python",
   "nbconvert_exporter": "python",
   "pygments_lexer": "ipython3",
   "version": "3.10.14"
  }
 },
 "nbformat": 4,
 "nbformat_minor": 5
}
